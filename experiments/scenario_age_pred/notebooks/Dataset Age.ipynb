{
 "cells": [
  {
   "cell_type": "code",
   "execution_count": 64,
   "metadata": {},
   "outputs": [],
   "source": [
    "def transform(x):\n",
    "    return np.sign(x) * np.log(np.abs(x) + 1)\n",
    "\n",
    "\n",
    "def transform_inv(x):\n",
    "    return np.sign(x) * (np.exp(np.abs(x)) - 1)"
   ]
  },
  {
   "cell_type": "code",
   "execution_count": 3,
   "metadata": {
    "scrolled": true
   },
   "outputs": [
    {
     "name": "stdout",
     "output_type": "stream",
     "text": [
      "gender_test_kaggle_sample_submission.csv  tr_mcc_codes.csv\r\n",
      "gender_train.csv\t\t\t  tr_types.csv\r\n",
      "gender_train_distribution_target.csv\t  train_trx.parquet\r\n",
      "test_ids.csv\t\t\t\t  trans-gender-2019.zip\r\n",
      "test_trx.parquet\t\t\t  transactions.csv\r\n"
     ]
    }
   ],
   "source": [
    "!ls ../scenario_gender/data"
   ]
  },
  {
   "cell_type": "code",
   "execution_count": 4,
   "metadata": {},
   "outputs": [
    {
     "name": "stdout",
     "output_type": "stream",
     "text": [
      "age-prediction-nti-sbebank-2019.zip  test_ids_file.csv\r\n",
      "age_train_distribution_target.csv    test_trx_file.parquet\r\n",
      "negative.pickle\t\t\t     train_target.csv\r\n",
      "positive.pickle\t\t\t     train_trx_file.parquet\r\n",
      "small_group_description.csv\t     transactions_test.csv\r\n",
      "test.csv\t\t\t     transactions_train.csv\r\n"
     ]
    }
   ],
   "source": [
    "!ls data"
   ]
  },
  {
   "cell_type": "code",
   "execution_count": 5,
   "metadata": {},
   "outputs": [],
   "source": [
    "import pyarrow.parquet as pq\n",
    "import pandas as pd\n",
    "\n",
    "table_age = pq.read_table('data/train_trx_file.parquet')\n",
    "df_age = table_age.to_pandas()"
   ]
  },
  {
   "cell_type": "code",
   "execution_count": 6,
   "metadata": {},
   "outputs": [],
   "source": [
    "max_ = float('-inf')\n",
    "long = []\n",
    "for l in df_age['amount_rur'].to_numpy():\n",
    "    for el in l:\n",
    "        long += [el]"
   ]
  },
  {
   "cell_type": "code",
   "execution_count": 95,
   "metadata": {},
   "outputs": [
    {
     "data": {
      "image/png": "[encoded data removed]",
      "text/plain": [
       "<Figure size 432x288 with 1 Axes>"
      ]
     },
     "metadata": {
      "needs_background": "light"
     },
     "output_type": "display_data"
    }
   ],
   "source": [
    "import matplotlib.pyplot as plt\n",
    "\n",
    "plt.hist(long, bins = 100)\n",
    "plt.show()"
   ]
  },
  {
   "cell_type": "code",
   "execution_count": 7,
   "metadata": {},
   "outputs": [
    {
     "data": {
      "text/html": [
       "<div>\n",
       "<style scoped>\n",
       "    .dataframe tbody tr th:only-of-type {\n",
       "        vertical-align: middle;\n",
       "    }\n",
       "\n",
       "    .dataframe tbody tr th {\n",
       "        vertical-align: top;\n",
       "    }\n",
       "\n",
       "    .dataframe thead th {\n",
       "        text-align: right;\n",
       "    }\n",
       "</style>\n",
       "<table border=\"1\" class=\"dataframe\">\n",
       "  <thead>\n",
       "    <tr style=\"text-align: right;\">\n",
       "      <th></th>\n",
       "      <th>client_id</th>\n",
       "      <th>amount_rur</th>\n",
       "      <th>event_time</th>\n",
       "      <th>trans_date</th>\n",
       "      <th>small_group</th>\n",
       "      <th>trx_count</th>\n",
       "      <th>target</th>\n",
       "    </tr>\n",
       "  </thead>\n",
       "  <tbody>\n",
       "    <tr>\n",
       "      <th>0</th>\n",
       "      <td>10096</td>\n",
       "      <td>[3.011654834097806, 4.2543921070296085, 3.7870...</td>\n",
       "      <td>[7.0, 7.0, 7.0, 8.0, 9.0, 10.0, 11.0, 11.0, 12...</td>\n",
       "      <td>[728, 728, 728, 720, 717, 711, 703, 703, 636, ...</td>\n",
       "      <td>[3, 2, 8, 2, 3, 3, 3, 4, 3, 2, 4, 8, 30, 2, 3,...</td>\n",
       "      <td>1049</td>\n",
       "      <td>0.0</td>\n",
       "    </tr>\n",
       "    <tr>\n",
       "      <th>1</th>\n",
       "      <td>10146</td>\n",
       "      <td>[3.3016348400359656, 2.24834007814165, 2.12525...</td>\n",
       "      <td>[4.0, 8.0, 9.0, 22.0, 26.0, 27.0, 27.0, 34.0, ...</td>\n",
       "      <td>[723, 720, 717, 702, 623, 686, 686, 649, 604, ...</td>\n",
       "      <td>[2, 5, 6, 21, 12, 12, 21, 2, 2, 3, 2, 2, 2, 18...</td>\n",
       "      <td>741</td>\n",
       "      <td>3.0</td>\n",
       "    </tr>\n",
       "    <tr>\n",
       "      <th>2</th>\n",
       "      <td>10351</td>\n",
       "      <td>[2.516566802515869, 2.634618923016327, 2.92138...</td>\n",
       "      <td>[9.0, 13.0, 14.0, 14.0, 14.0, 15.0, 16.0, 16.0...</td>\n",
       "      <td>[717, 690, 722, 722, 722, 714, 706, 706, 706, ...</td>\n",
       "      <td>[3, 2, 2, 4, 8, 2, 2, 3, 5, 2, 2, 8, 3, 2, 2, ...</td>\n",
       "      <td>876</td>\n",
       "      <td>3.0</td>\n",
       "    </tr>\n",
       "    <tr>\n",
       "      <th>3</th>\n",
       "      <td>1059</td>\n",
       "      <td>[4.013803119089597, 4.418153624889916, 4.95236...</td>\n",
       "      <td>[6.0, 8.0, 9.0, 9.0, 9.0, 10.0, 11.0, 12.0, 12...</td>\n",
       "      <td>[729, 720, 717, 717, 717, 711, 703, 636, 636, ...</td>\n",
       "      <td>[13, 11, 2, 11, 4, 13, 2, 4, 2, 11, 2, 13, 4, ...</td>\n",
       "      <td>742</td>\n",
       "      <td>1.0</td>\n",
       "    </tr>\n",
       "    <tr>\n",
       "      <th>4</th>\n",
       "      <td>10765</td>\n",
       "      <td>[3.2582503723422223, 2.7566498709382725, 2.300...</td>\n",
       "      <td>[48.0, 51.0, 52.0, 55.0, 57.0, 59.0, 59.0, 60....</td>\n",
       "      <td>[643, 644, 512, 698, 684, 639, 639, 663, 499, ...</td>\n",
       "      <td>[2, 2, 2, 2, 2, 6, 2, 2, 2, 2, 2, 78, 2, 12, 2...</td>\n",
       "      <td>881</td>\n",
       "      <td>1.0</td>\n",
       "    </tr>\n",
       "    <tr>\n",
       "      <th>...</th>\n",
       "      <td>...</td>\n",
       "      <td>...</td>\n",
       "      <td>...</td>\n",
       "      <td>...</td>\n",
       "      <td>...</td>\n",
       "      <td>...</td>\n",
       "      <td>...</td>\n",
       "    </tr>\n",
       "    <tr>\n",
       "      <th>46995</th>\n",
       "      <td>8971</td>\n",
       "      <td>[2.318360012109408, 3.7870718400053156, 3.7752...</td>\n",
       "      <td>[0.0, 1.0, 5.0, 7.0, 9.0, 11.0, 12.0, 12.0, 13...</td>\n",
       "      <td>[731, 727, 726, 728, 717, 703, 636, 636, 690, ...</td>\n",
       "      <td>[4, 4, 3, 26, 4, 5, 4, 13, 5, 2, 6, 4, 2, 2, 4...</td>\n",
       "      <td>980</td>\n",
       "      <td>NaN</td>\n",
       "    </tr>\n",
       "    <tr>\n",
       "      <th>46996</th>\n",
       "      <td>9146</td>\n",
       "      <td>[1.7652443635722999, 1.3802762887943276, 1.611...</td>\n",
       "      <td>[1.0, 4.0, 16.0, 17.0, 19.0, 20.0, 21.0, 23.0,...</td>\n",
       "      <td>[727, 723, 706, 708, 625, 676, 719, 695, 695, ...</td>\n",
       "      <td>[16, 3, 3, 2, 2, 2, 2, 2, 12, 3, 2, 4, 2, 4, 2...</td>\n",
       "      <td>786</td>\n",
       "      <td>NaN</td>\n",
       "    </tr>\n",
       "    <tr>\n",
       "      <th>46997</th>\n",
       "      <td>9912</td>\n",
       "      <td>[3.7340917969354845, 3.046235255727098, 3.7857...</td>\n",
       "      <td>[3.0, 4.0, 4.0, 5.0, 6.0, 6.0, 8.0, 8.0, 8.0, ...</td>\n",
       "      <td>[724, 723, 723, 726, 729, 729, 720, 720, 720, ...</td>\n",
       "      <td>[14, 2, 6, 3, 7, 2, 14, 2, 52, 5, 4, 12, 7, 4,...</td>\n",
       "      <td>814</td>\n",
       "      <td>NaN</td>\n",
       "    </tr>\n",
       "    <tr>\n",
       "      <th>46998</th>\n",
       "      <td>9929</td>\n",
       "      <td>[3.7870718400053156, 3.7870718400053156, 3.509...</td>\n",
       "      <td>[0.0, 3.0, 5.0, 6.0, 7.0, 7.0, 8.0, 8.0, 8.0, ...</td>\n",
       "      <td>[731, 724, 726, 729, 728, 728, 720, 720, 720, ...</td>\n",
       "      <td>[4, 49, 3, 2, 2, 3, 35, 4, 2, 2, 2, 2, 4, 2, 4...</td>\n",
       "      <td>762</td>\n",
       "      <td>NaN</td>\n",
       "    </tr>\n",
       "    <tr>\n",
       "      <th>46999</th>\n",
       "      <td>9982</td>\n",
       "      <td>[5.476835867550687, 3.921458352214631, 4.32470...</td>\n",
       "      <td>[3.0, 3.0, 4.0, 6.0, 8.0, 8.0, 8.0, 9.0, 9.0, ...</td>\n",
       "      <td>[724, 724, 723, 729, 720, 720, 720, 717, 717, ...</td>\n",
       "      <td>[12, 7, 72, 22, 11, 3, 20, 2, 6, 6, 7, 2, 2, 8...</td>\n",
       "      <td>1130</td>\n",
       "      <td>NaN</td>\n",
       "    </tr>\n",
       "  </tbody>\n",
       "</table>\n",
       "<p>47000 rows × 7 columns</p>\n",
       "</div>"
      ],
      "text/plain": [
       "      client_id                                         amount_rur  \\\n",
       "0         10096  [3.011654834097806, 4.2543921070296085, 3.7870...   \n",
       "1         10146  [3.3016348400359656, 2.24834007814165, 2.12525...   \n",
       "2         10351  [2.516566802515869, 2.634618923016327, 2.92138...   \n",
       "3          1059  [4.013803119089597, 4.418153624889916, 4.95236...   \n",
       "4         10765  [3.2582503723422223, 2.7566498709382725, 2.300...   \n",
       "...         ...                                                ...   \n",
       "46995      8971  [2.318360012109408, 3.7870718400053156, 3.7752...   \n",
       "46996      9146  [1.7652443635722999, 1.3802762887943276, 1.611...   \n",
       "46997      9912  [3.7340917969354845, 3.046235255727098, 3.7857...   \n",
       "46998      9929  [3.7870718400053156, 3.7870718400053156, 3.509...   \n",
       "46999      9982  [5.476835867550687, 3.921458352214631, 4.32470...   \n",
       "\n",
       "                                              event_time  \\\n",
       "0      [7.0, 7.0, 7.0, 8.0, 9.0, 10.0, 11.0, 11.0, 12...   \n",
       "1      [4.0, 8.0, 9.0, 22.0, 26.0, 27.0, 27.0, 34.0, ...   \n",
       "2      [9.0, 13.0, 14.0, 14.0, 14.0, 15.0, 16.0, 16.0...   \n",
       "3      [6.0, 8.0, 9.0, 9.0, 9.0, 10.0, 11.0, 12.0, 12...   \n",
       "4      [48.0, 51.0, 52.0, 55.0, 57.0, 59.0, 59.0, 60....   \n",
       "...                                                  ...   \n",
       "46995  [0.0, 1.0, 5.0, 7.0, 9.0, 11.0, 12.0, 12.0, 13...   \n",
       "46996  [1.0, 4.0, 16.0, 17.0, 19.0, 20.0, 21.0, 23.0,...   \n",
       "46997  [3.0, 4.0, 4.0, 5.0, 6.0, 6.0, 8.0, 8.0, 8.0, ...   \n",
       "46998  [0.0, 3.0, 5.0, 6.0, 7.0, 7.0, 8.0, 8.0, 8.0, ...   \n",
       "46999  [3.0, 3.0, 4.0, 6.0, 8.0, 8.0, 8.0, 9.0, 9.0, ...   \n",
       "\n",
       "                                              trans_date  \\\n",
       "0      [728, 728, 728, 720, 717, 711, 703, 703, 636, ...   \n",
       "1      [723, 720, 717, 702, 623, 686, 686, 649, 604, ...   \n",
       "2      [717, 690, 722, 722, 722, 714, 706, 706, 706, ...   \n",
       "3      [729, 720, 717, 717, 717, 711, 703, 636, 636, ...   \n",
       "4      [643, 644, 512, 698, 684, 639, 639, 663, 499, ...   \n",
       "...                                                  ...   \n",
       "46995  [731, 727, 726, 728, 717, 703, 636, 636, 690, ...   \n",
       "46996  [727, 723, 706, 708, 625, 676, 719, 695, 695, ...   \n",
       "46997  [724, 723, 723, 726, 729, 729, 720, 720, 720, ...   \n",
       "46998  [731, 724, 726, 729, 728, 728, 720, 720, 720, ...   \n",
       "46999  [724, 724, 723, 729, 720, 720, 720, 717, 717, ...   \n",
       "\n",
       "                                             small_group  trx_count  target  \n",
       "0      [3, 2, 8, 2, 3, 3, 3, 4, 3, 2, 4, 8, 30, 2, 3,...       1049     0.0  \n",
       "1      [2, 5, 6, 21, 12, 12, 21, 2, 2, 3, 2, 2, 2, 18...        741     3.0  \n",
       "2      [3, 2, 2, 4, 8, 2, 2, 3, 5, 2, 2, 8, 3, 2, 2, ...        876     3.0  \n",
       "3      [13, 11, 2, 11, 4, 13, 2, 4, 2, 11, 2, 13, 4, ...        742     1.0  \n",
       "4      [2, 2, 2, 2, 2, 6, 2, 2, 2, 2, 2, 78, 2, 12, 2...        881     1.0  \n",
       "...                                                  ...        ...     ...  \n",
       "46995  [4, 4, 3, 26, 4, 5, 4, 13, 5, 2, 6, 4, 2, 2, 4...        980     NaN  \n",
       "46996  [16, 3, 3, 2, 2, 2, 2, 2, 12, 3, 2, 4, 2, 4, 2...        786     NaN  \n",
       "46997  [14, 2, 6, 3, 7, 2, 14, 2, 52, 5, 4, 12, 7, 4,...        814     NaN  \n",
       "46998  [4, 49, 3, 2, 2, 3, 35, 4, 2, 2, 2, 2, 4, 2, 4...        762     NaN  \n",
       "46999  [12, 7, 72, 22, 11, 3, 20, 2, 6, 6, 7, 2, 2, 8...       1130     NaN  \n",
       "\n",
       "[47000 rows x 7 columns]"
      ]
     },
     "execution_count": 7,
     "metadata": {},
     "output_type": "execute_result"
    }
   ],
   "source": [
    "df_age"
   ]
  },
  {
   "cell_type": "code",
   "execution_count": 8,
   "metadata": {},
   "outputs": [],
   "source": [
    "table_gender = pq.read_table('../scenario_gender/data/train_trx.parquet')\n",
    "df_gender = table_gender.to_pandas()"
   ]
  },
  {
   "cell_type": "code",
   "execution_count": 9,
   "metadata": {},
   "outputs": [
    {
     "data": {
      "text/html": [
       "<div>\n",
       "<style scoped>\n",
       "    .dataframe tbody tr th:only-of-type {\n",
       "        vertical-align: middle;\n",
       "    }\n",
       "\n",
       "    .dataframe tbody tr th {\n",
       "        vertical-align: top;\n",
       "    }\n",
       "\n",
       "    .dataframe thead th {\n",
       "        text-align: right;\n",
       "    }\n",
       "</style>\n",
       "<table border=\"1\" class=\"dataframe\">\n",
       "  <thead>\n",
       "    <tr style=\"text-align: right;\">\n",
       "      <th></th>\n",
       "      <th>customer_id</th>\n",
       "      <th>amount</th>\n",
       "      <th>event_time</th>\n",
       "      <th>mcc_code</th>\n",
       "      <th>tr_type</th>\n",
       "      <th>term_id</th>\n",
       "      <th>trx_count</th>\n",
       "      <th>target</th>\n",
       "    </tr>\n",
       "  </thead>\n",
       "  <tbody>\n",
       "    <tr>\n",
       "      <th>0</th>\n",
       "      <td>10058778</td>\n",
       "      <td>[13.420652589715486, -13.420652589715486, 14.6...</td>\n",
       "      <td>[23.48369212962963, 23.484502314814815, 36.623...</td>\n",
       "      <td>[2, 6, 3, 2, 2, 3, 2, 3, 2, 6, 6, 3, 10, 3, 2,...</td>\n",
       "      <td>[8, 13, 6, 3, 3, 23, 3, 11, 8, 19, 20, 6, 2, 6...</td>\n",
       "      <td>[2, 2, 2, 2, 2, 2, 2, 2, 2, 2, 2, 2, 2, 2, 2, ...</td>\n",
       "      <td>142</td>\n",
       "      <td>NaN</td>\n",
       "    </tr>\n",
       "    <tr>\n",
       "      <th>1</th>\n",
       "      <td>10230827</td>\n",
       "      <td>[13.015188216272872, -10.01949835204266, -9.76...</td>\n",
       "      <td>[0.38385416666666666, 1.6596412037037038, 1.78...</td>\n",
       "      <td>[3, 2, 5, 8, 2, 2, 2, 4, 2, 2, 4, 2, 2, 4, 3, ...</td>\n",
       "      <td>[29, 3, 5, 5, 3, 3, 3, 4, 3, 3, 4, 3, 3, 4, 29...</td>\n",
       "      <td>[2, 2, 2, 2, 2, 2, 2, 2, 2, 2, 2, 2, 2, 2, 2, ...</td>\n",
       "      <td>279</td>\n",
       "      <td>NaN</td>\n",
       "    </tr>\n",
       "    <tr>\n",
       "      <th>2</th>\n",
       "      <td>11625700</td>\n",
       "      <td>[11.6289005561684, -7.717315668525269, -8.9437...</td>\n",
       "      <td>[69.55748842592592, 70.45819444444444, 70.7085...</td>\n",
       "      <td>[2, 4, 5, 13, 7, 9, 13, 2, 5, 5, 13, 13, 13, 4...</td>\n",
       "      <td>[8, 4, 2, 2, 2, 5, 2, 3, 2, 2, 2, 2, 2, 4, 2, ...</td>\n",
       "      <td>[2, 2, 2, 2, 2, 2, 2, 2, 2, 2, 2, 2, 2, 2, 2, ...</td>\n",
       "      <td>862</td>\n",
       "      <td>NaN</td>\n",
       "    </tr>\n",
       "    <tr>\n",
       "      <th>3</th>\n",
       "      <td>11681378</td>\n",
       "      <td>[-8.41023807171957, -7.9242460340479255, -9.91...</td>\n",
       "      <td>[0.4265393518518519, 0.4839583333333333, 1.0, ...</td>\n",
       "      <td>[4, 7, 2, 2, 11, 5, 7, 6, 2, 7, 7, 3, 6, 7, 7,...</td>\n",
       "      <td>[4, 2, 27, 28, 2, 5, 2, 13, 3, 2, 2, 9, 13, 2,...</td>\n",
       "      <td>[2, 2, 2, 2, 2, 2, 2, 2, 2, 2, 2, 2, 2, 2, 2, ...</td>\n",
       "      <td>881</td>\n",
       "      <td>NaN</td>\n",
       "    </tr>\n",
       "    <tr>\n",
       "      <th>4</th>\n",
       "      <td>12051455</td>\n",
       "      <td>[-7.717315668525269, -11.405759208832837, -10....</td>\n",
       "      <td>[1.0, 1.0, 3.3355787037037037, 3.7201273148148...</td>\n",
       "      <td>[2, 2, 19, 2, 42, 4, 2, 5, 12, 14, 14, 5, 4, 2...</td>\n",
       "      <td>[28, 27, 2, 3, 5, 4, 3, 5, 5, 2, 2, 5, 4, 3, 4...</td>\n",
       "      <td>[2, 2, 2, 2, 2, 2, 2, 2, 2, 2, 2, 2, 2, 2, 2, ...</td>\n",
       "      <td>453</td>\n",
       "      <td>NaN</td>\n",
       "    </tr>\n",
       "    <tr>\n",
       "      <th>...</th>\n",
       "      <td>...</td>\n",
       "      <td>...</td>\n",
       "      <td>...</td>\n",
       "      <td>...</td>\n",
       "      <td>...</td>\n",
       "      <td>...</td>\n",
       "      <td>...</td>\n",
       "      <td>...</td>\n",
       "    </tr>\n",
       "    <tr>\n",
       "      <th>13495</th>\n",
       "      <td>98165656</td>\n",
       "      <td>[-8.400845874622112, -8.122629446934692, -11.1...</td>\n",
       "      <td>[0.0, 3.3646064814814816, 3.3766550925925927, ...</td>\n",
       "      <td>[17, 4, 2, 31, 2, 17, 17, 2, 2, 17, 3, 2, 4, 2...</td>\n",
       "      <td>[12, 4, 3, 2, 3, 12, 12, 3, 3, 12, 6, 3, 4, 3,...</td>\n",
       "      <td>[2, 2, 2, 2, 2, 2, 2, 2, 2, 2, 2, 2, 2, 2, 2, ...</td>\n",
       "      <td>255</td>\n",
       "      <td>NaN</td>\n",
       "    </tr>\n",
       "    <tr>\n",
       "      <th>13496</th>\n",
       "      <td>98408171</td>\n",
       "      <td>[-11.921567919961367, -10.661331054282561, -11...</td>\n",
       "      <td>[17.35533564814815, 27.522986111111113, 46.380...</td>\n",
       "      <td>[2, 2, 2, 2, 4, 2, 2, 2, 2, 2, 2, 2, 4, 2, 4, ...</td>\n",
       "      <td>[3, 3, 3, 3, 4, 3, 3, 3, 3, 3, 3, 3, 4, 3, 4, ...</td>\n",
       "      <td>[2, 2, 2, 2, 2, 2, 2, 2, 2, 2, 2, 2, 2, 2, 2, ...</td>\n",
       "      <td>62</td>\n",
       "      <td>NaN</td>\n",
       "    </tr>\n",
       "    <tr>\n",
       "      <th>13497</th>\n",
       "      <td>9871840</td>\n",
       "      <td>[9.326395693771916, -10.712623270714646, -9.50...</td>\n",
       "      <td>[4.811412037037037, 7.357789351851852, 9.71534...</td>\n",
       "      <td>[2, 2, 2, 4, 4, 4, 2, 2, 2, 4, 2, 4, 4, 4, 2, ...</td>\n",
       "      <td>[8, 3, 3, 4, 4, 4, 3, 3, 3, 4, 3, 4, 4, 4, 3, ...</td>\n",
       "      <td>[2, 2, 2, 2, 2, 2, 2, 2, 2, 2, 2, 2, 2, 2, 2, ...</td>\n",
       "      <td>116</td>\n",
       "      <td>NaN</td>\n",
       "    </tr>\n",
       "    <tr>\n",
       "      <th>13498</th>\n",
       "      <td>98751581</td>\n",
       "      <td>[-8.815629726765879, -7.024613442631785, -7.02...</td>\n",
       "      <td>[1.410613425925926, 2.0724305555555556, 4.4194...</td>\n",
       "      <td>[2, 4, 4, 4, 2, 2, 4, 2, 4, 4, 4, 4, 2, 4, 4, ...</td>\n",
       "      <td>[3, 4, 4, 4, 18, 3, 4, 3, 4, 4, 4, 4, 3, 4, 4,...</td>\n",
       "      <td>[2, 2, 2, 2, 2, 2, 2, 2, 2, 2, 2, 2, 2, 2, 2, ...</td>\n",
       "      <td>403</td>\n",
       "      <td>NaN</td>\n",
       "    </tr>\n",
       "    <tr>\n",
       "      <th>13499</th>\n",
       "      <td>99984336</td>\n",
       "      <td>[-10.550108217440055, 10.852382154461258, -11....</td>\n",
       "      <td>[13.535208333333333, 20.378599537037037, 26.57...</td>\n",
       "      <td>[2, 2, 2, 2, 2, 2, 2, 2, 2, 2, 2, 2, 2, 2, 2, ...</td>\n",
       "      <td>[3, 8, 3, 3, 8, 3, 3, 8, 3, 8, 3, 3, 8, 3, 3, ...</td>\n",
       "      <td>[2, 2, 2, 2, 2, 2, 2, 2, 2, 2, 2, 2, 2, 2, 2, ...</td>\n",
       "      <td>63</td>\n",
       "      <td>NaN</td>\n",
       "    </tr>\n",
       "  </tbody>\n",
       "</table>\n",
       "<p>13500 rows × 8 columns</p>\n",
       "</div>"
      ],
      "text/plain": [
       "      customer_id                                             amount  \\\n",
       "0        10058778  [13.420652589715486, -13.420652589715486, 14.6...   \n",
       "1        10230827  [13.015188216272872, -10.01949835204266, -9.76...   \n",
       "2        11625700  [11.6289005561684, -7.717315668525269, -8.9437...   \n",
       "3        11681378  [-8.41023807171957, -7.9242460340479255, -9.91...   \n",
       "4        12051455  [-7.717315668525269, -11.405759208832837, -10....   \n",
       "...           ...                                                ...   \n",
       "13495    98165656  [-8.400845874622112, -8.122629446934692, -11.1...   \n",
       "13496    98408171  [-11.921567919961367, -10.661331054282561, -11...   \n",
       "13497     9871840  [9.326395693771916, -10.712623270714646, -9.50...   \n",
       "13498    98751581  [-8.815629726765879, -7.024613442631785, -7.02...   \n",
       "13499    99984336  [-10.550108217440055, 10.852382154461258, -11....   \n",
       "\n",
       "                                              event_time  \\\n",
       "0      [23.48369212962963, 23.484502314814815, 36.623...   \n",
       "1      [0.38385416666666666, 1.6596412037037038, 1.78...   \n",
       "2      [69.55748842592592, 70.45819444444444, 70.7085...   \n",
       "3      [0.4265393518518519, 0.4839583333333333, 1.0, ...   \n",
       "4      [1.0, 1.0, 3.3355787037037037, 3.7201273148148...   \n",
       "...                                                  ...   \n",
       "13495  [0.0, 3.3646064814814816, 3.3766550925925927, ...   \n",
       "13496  [17.35533564814815, 27.522986111111113, 46.380...   \n",
       "13497  [4.811412037037037, 7.357789351851852, 9.71534...   \n",
       "13498  [1.410613425925926, 2.0724305555555556, 4.4194...   \n",
       "13499  [13.535208333333333, 20.378599537037037, 26.57...   \n",
       "\n",
       "                                                mcc_code  \\\n",
       "0      [2, 6, 3, 2, 2, 3, 2, 3, 2, 6, 6, 3, 10, 3, 2,...   \n",
       "1      [3, 2, 5, 8, 2, 2, 2, 4, 2, 2, 4, 2, 2, 4, 3, ...   \n",
       "2      [2, 4, 5, 13, 7, 9, 13, 2, 5, 5, 13, 13, 13, 4...   \n",
       "3      [4, 7, 2, 2, 11, 5, 7, 6, 2, 7, 7, 3, 6, 7, 7,...   \n",
       "4      [2, 2, 19, 2, 42, 4, 2, 5, 12, 14, 14, 5, 4, 2...   \n",
       "...                                                  ...   \n",
       "13495  [17, 4, 2, 31, 2, 17, 17, 2, 2, 17, 3, 2, 4, 2...   \n",
       "13496  [2, 2, 2, 2, 4, 2, 2, 2, 2, 2, 2, 2, 4, 2, 4, ...   \n",
       "13497  [2, 2, 2, 4, 4, 4, 2, 2, 2, 4, 2, 4, 4, 4, 2, ...   \n",
       "13498  [2, 4, 4, 4, 2, 2, 4, 2, 4, 4, 4, 4, 2, 4, 4, ...   \n",
       "13499  [2, 2, 2, 2, 2, 2, 2, 2, 2, 2, 2, 2, 2, 2, 2, ...   \n",
       "\n",
       "                                                 tr_type  \\\n",
       "0      [8, 13, 6, 3, 3, 23, 3, 11, 8, 19, 20, 6, 2, 6...   \n",
       "1      [29, 3, 5, 5, 3, 3, 3, 4, 3, 3, 4, 3, 3, 4, 29...   \n",
       "2      [8, 4, 2, 2, 2, 5, 2, 3, 2, 2, 2, 2, 2, 4, 2, ...   \n",
       "3      [4, 2, 27, 28, 2, 5, 2, 13, 3, 2, 2, 9, 13, 2,...   \n",
       "4      [28, 27, 2, 3, 5, 4, 3, 5, 5, 2, 2, 5, 4, 3, 4...   \n",
       "...                                                  ...   \n",
       "13495  [12, 4, 3, 2, 3, 12, 12, 3, 3, 12, 6, 3, 4, 3,...   \n",
       "13496  [3, 3, 3, 3, 4, 3, 3, 3, 3, 3, 3, 3, 4, 3, 4, ...   \n",
       "13497  [8, 3, 3, 4, 4, 4, 3, 3, 3, 4, 3, 4, 4, 4, 3, ...   \n",
       "13498  [3, 4, 4, 4, 18, 3, 4, 3, 4, 4, 4, 4, 3, 4, 4,...   \n",
       "13499  [3, 8, 3, 3, 8, 3, 3, 8, 3, 8, 3, 3, 8, 3, 3, ...   \n",
       "\n",
       "                                                 term_id  trx_count  target  \n",
       "0      [2, 2, 2, 2, 2, 2, 2, 2, 2, 2, 2, 2, 2, 2, 2, ...        142     NaN  \n",
       "1      [2, 2, 2, 2, 2, 2, 2, 2, 2, 2, 2, 2, 2, 2, 2, ...        279     NaN  \n",
       "2      [2, 2, 2, 2, 2, 2, 2, 2, 2, 2, 2, 2, 2, 2, 2, ...        862     NaN  \n",
       "3      [2, 2, 2, 2, 2, 2, 2, 2, 2, 2, 2, 2, 2, 2, 2, ...        881     NaN  \n",
       "4      [2, 2, 2, 2, 2, 2, 2, 2, 2, 2, 2, 2, 2, 2, 2, ...        453     NaN  \n",
       "...                                                  ...        ...     ...  \n",
       "13495  [2, 2, 2, 2, 2, 2, 2, 2, 2, 2, 2, 2, 2, 2, 2, ...        255     NaN  \n",
       "13496  [2, 2, 2, 2, 2, 2, 2, 2, 2, 2, 2, 2, 2, 2, 2, ...         62     NaN  \n",
       "13497  [2, 2, 2, 2, 2, 2, 2, 2, 2, 2, 2, 2, 2, 2, 2, ...        116     NaN  \n",
       "13498  [2, 2, 2, 2, 2, 2, 2, 2, 2, 2, 2, 2, 2, 2, 2, ...        403     NaN  \n",
       "13499  [2, 2, 2, 2, 2, 2, 2, 2, 2, 2, 2, 2, 2, 2, 2, ...         63     NaN  \n",
       "\n",
       "[13500 rows x 8 columns]"
      ]
     },
     "execution_count": 9,
     "metadata": {},
     "output_type": "execute_result"
    }
   ],
   "source": [
    "df_gender"
   ]
  },
  {
   "cell_type": "code",
   "execution_count": null,
   "metadata": {},
   "outputs": [],
   "source": []
  },
  {
   "cell_type": "code",
   "execution_count": null,
   "metadata": {},
   "outputs": [],
   "source": []
  },
  {
   "cell_type": "code",
   "execution_count": null,
   "metadata": {},
   "outputs": [],
   "source": []
  },
  {
   "cell_type": "code",
   "execution_count": 16,
   "metadata": {},
   "outputs": [],
   "source": [
    "import pickle\n",
    "with open('data/positive.pickle', 'rb') as handle:\n",
    "    pos = pickle.load(handle)\n",
    "    \n",
    "with open('data/negative.pickle', 'rb') as handle:\n",
    "    neg = pickle.load(handle)"
   ]
  },
  {
   "cell_type": "code",
   "execution_count": 19,
   "metadata": {
    "scrolled": false
   },
   "outputs": [
    {
     "name": "stdout",
     "output_type": "stream",
     "text": [
      "1, 24, 11, 5, 2, 18, 3, 9, 4, 28, 13, 15, 36, 46, 21, 23, 14, 39, 64, 80, 12, 25, 55, 20, 43, 16, 8, 26, 34, 109, 32, 57, 54, 61, 7, 22, 44, 50, 72, 0, 40, 10, 29, 37, 82, 52, 35, 33, 75, 31, 53, 62, 17, 83, 45, 6, 66, 112, 59, 19, 91, 67, 65, 147, 86, 79, 63, 81, 69, 106, 77, 48, 30, 78, 105, 42, 98, 87, 27, 58, 141, 92, 102, 76, 121, 103, 137, 70, 123, 38, 74, 97, 49, 95, 47, 96, 73, 101, 151, 68, 51, 125, 41, 156, 56, 139, 115, 122, 113, 89, 144, 170, 140, 110, 120, 154, 153, 111, 161, 104, 90, 114, 84, 131, 100, 88, 143, 130, 166, 124, 174, 158, 107, 150, 146, 173, 142, 138, 71, 94, 132, 99, 135, 117, 160, 181, 127, 169, 133, 116, 171, 148, 162, 163, 134, 129, 136, 178, 172, 85, 179, 176, 149, 177, 145, 155, 119, 190, 168, 165, 167, 93, 108, 180, 182, 60, 126, 191, 157, 185, 184, 118, 164, 187, 128, 195, 159, 186, 198, 152, 193, 192, 183, 189, 196, 175, 188, 202, 200, 197, 203, 199, "
     ]
    }
   ],
   "source": [
    "for el in pos:\n",
    "    print(el, end=', ')"
   ]
  },
  {
   "cell_type": "code",
   "execution_count": 14,
   "metadata": {},
   "outputs": [
    {
     "data": {
      "text/plain": [
       "[]"
      ]
     },
     "execution_count": 14,
     "metadata": {},
     "output_type": "execute_result"
    }
   ],
   "source": [
    "neg"
   ]
  },
  {
   "cell_type": "code",
   "execution_count": 15,
   "metadata": {},
   "outputs": [
    {
     "name": "stdout",
     "output_type": "stream",
     "text": [
      "'Distribution check. Inference.ipynb'   my_config_for_jupyter.pickle\r\n",
      "'Distribution targets.ipynb'\t        my_config_for_jupyter_model.pickle\r\n",
      " README.md\t\t\t        negative.pickle\r\n",
      " __pycache__\t\t\t        notebooks\r\n",
      " bin\t\t\t\t        positive.pickle\r\n",
      " conf\t\t\t\t        results\r\n",
      " data\t\t\t\t        scenario_gender\r\n",
      " distribution_target.py\t\t        show_neg\r\n",
      " lightning_logs\t\t\t        show_pos\r\n",
      " models\r\n"
     ]
    }
   ],
   "source": [
    "! ls ../scenario_gender/"
   ]
  },
  {
   "cell_type": "code",
   "execution_count": 17,
   "metadata": {},
   "outputs": [],
   "source": [
    "with open('../scenario_gender/positive.pickle', 'rb') as handle:\n",
    "    pt = pickle.load(handle)"
   ]
  },
  {
   "cell_type": "code",
   "execution_count": 18,
   "metadata": {},
   "outputs": [
    {
     "data": {
      "text/plain": [
       "[7070,\n",
       " 7010,\n",
       " 7030,\n",
       " 7071,\n",
       " 7020,\n",
       " 7021,\n",
       " 7031,\n",
       " 7011,\n",
       " 6110,\n",
       " 7014,\n",
       " 7074,\n",
       " 7040,\n",
       " 7034,\n",
       " 7041,\n",
       " 6210,\n",
       " 6010,\n",
       " 7024,\n",
       " 6100,\n",
       " 7075,\n",
       " 6200,\n",
       " 7035,\n",
       " 7015,\n",
       " 7025,\n",
       " 6000,\n",
       " 8100,\n",
       " 8145,\n",
       " 7044,\n",
       " 8146]"
      ]
     },
     "execution_count": 18,
     "metadata": {},
     "output_type": "execute_result"
    }
   ],
   "source": [
    "pt"
   ]
  },
  {
   "cell_type": "code",
   "execution_count": 20,
   "metadata": {},
   "outputs": [
    {
     "data": {
      "text/plain": [
       "{4: 5}"
      ]
     },
     "execution_count": 20,
     "metadata": {},
     "output_type": "execute_result"
    }
   ],
   "source": [
    "{4:5}"
   ]
  },
  {
   "cell_type": "code",
   "execution_count": null,
   "metadata": {},
   "outputs": [],
   "source": []
  }
 ],
 "metadata": {
  "kernelspec": {
   "display_name": "Python 3",
   "language": "python",
   "name": "python3"
  },
  "language_info": {
   "codemirror_mode": {
    "name": "ipython",
    "version": 3
   },
   "file_extension": ".py",
   "mimetype": "text/x-python",
   "name": "python",
   "nbconvert_exporter": "python",
   "pygments_lexer": "ipython3",
   "version": "3.8.0"
  }
 },
 "nbformat": 4,
 "nbformat_minor": 4
}
